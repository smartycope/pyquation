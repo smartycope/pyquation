{
 "cells": [
  {
   "cell_type": "code",
   "execution_count": 99,
   "metadata": {},
   "outputs": [],
   "source": [
    "from Equation import Equation\n",
    "from Variable import Variable\n",
    "from sympy import *\n",
    "from sympy.physics.units import *\n",
    "from sympy import S"
   ]
  },
  {
   "cell_type": "code",
   "execution_count": 100,
   "metadata": {},
   "outputs": [],
   "source": [
    "# First, specify any previously unspecified dimensions\n",
    "# mass, force, and acceleration are already instantiated\n",
    "radius = Dimension('radius', 'r')"
   ]
  },
  {
   "cell_type": "code",
   "execution_count": null,
   "metadata": {},
   "outputs": [],
   "source": [
    "# Then, specify all the variables\n",
    "F = Variable(force, newtons)\n",
    "M = Variable(mass, kilogram)\n",
    "A = Variable(acceleration, meters/second**2, 'A')\n",
    "v = Variable(velocity, meters/second, 'v')\n",
    "r = Variable(length, meters, 'r')"
   ]
  },
  {
   "cell_type": "code",
   "execution_count": 102,
   "metadata": {},
   "outputs": [],
   "source": [
    "# Now, specify the equations themselves\n",
    "newtons_law = Equation(F, M*A)\n",
    "centripetal_motion = Equation(A, (v**2)/r)"
   ]
  },
  {
   "cell_type": "code",
   "execution_count": 103,
   "metadata": {},
   "outputs": [
    {
     "data": {
      "text/latex": [
       "$\\displaystyle \\frac{4 \\text{m}}{\\text{s}^{2}}$"
      ],
      "text/plain": [
       "4*meter/second**2"
      ]
     },
     "metadata": {},
     "output_type": "display_data"
    },
    {
     "data": {
      "text/latex": [
       "$\\displaystyle r = 25 \\text{m}$"
      ],
      "text/plain": [
       "Eq(r, 25*meter)"
      ]
     },
     "execution_count": 103,
     "metadata": {},
     "output_type": "execute_result"
    }
   ],
   "source": [
    "# Method 1\n",
    "accel = newtons_law(M=3*kg, F=12*newtons)\n",
    "display(accel)\n",
    "centripetal_motion(A=accel, v=10*meters/second, show_solved_term=True)"
   ]
  },
  {
   "cell_type": "code",
   "execution_count": null,
   "metadata": {},
   "outputs": [],
   "source": [
    "# Method 2 (not implemented yet, should give the same answer)\n",
    "radius_of_a_centrifuge = newtons_law + centripetal_motion\n",
    "# We could do something here like rename variables (F to \"force_to_exert\" or something) and set variables equal to each other\n",
    "radius_of_a_centrifuge(M=3*kg, F=12*newton, v=10*meters/second)\n",
    "# Theoretically, this would return a dict of {Variables: values} for all the variables in all the equations"
   ]
  }
 ],
 "metadata": {
  "kernelspec": {
   "display_name": "base",
   "language": "python",
   "name": "python3"
  },
  "language_info": {
   "codemirror_mode": {
    "name": "ipython",
    "version": 3
   },
   "file_extension": ".py",
   "mimetype": "text/x-python",
   "name": "python",
   "nbconvert_exporter": "python",
   "pygments_lexer": "ipython3",
   "version": "3.12.2"
  }
 },
 "nbformat": 4,
 "nbformat_minor": 2
}
