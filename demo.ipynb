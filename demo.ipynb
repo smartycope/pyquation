{
 "cells": [
  {
   "cell_type": "markdown",
   "metadata": {},
   "source": [
    "pyquation is set up to minimize the effort required to use equations, not necisarily for defining them. It shouldn't be too hard, especially once you have a bunch of Variables set up. At some point, I aim to include a bunch of pre-defined Variables and Equations to the package."
   ]
  },
  {
   "cell_type": "code",
   "execution_count": 2,
   "metadata": {},
   "outputs": [],
   "source": [
    "from pyquation import Equation, Variable\n",
    "# For dimensions, quantities, and constants\n",
    "from sympy.physics.units import *\n",
    "# For prefixes like milli and mega\n",
    "from sympy.physics.units.prefixes import *\n",
    "# For a more complete (but not symbolic) list of units and constants, see\n",
    "# https://docs.scipy.org/doc/scipy/reference/constants.html\n",
    "# from scipy.constants import *"
   ]
  },
  {
   "cell_type": "markdown",
   "metadata": {},
   "source": [
    "### Dimensions\n",
    "First, specify any previously unspecified dimensions. sympy already has a lot specified, but if you would like more, this is how you would do it"
   ]
  },
  {
   "cell_type": "code",
   "execution_count": 3,
   "metadata": {},
   "outputs": [],
   "source": [
    "height = Dimension('height', 'h')"
   ]
  },
  {
   "cell_type": "markdown",
   "metadata": {},
   "source": [
    "### Quantities\n",
    "Sympy has a lot of units already specified, but in case you need more, this is how you make new ones. \n",
    "For more help, see the sympy docs:\n",
    "https://docs.sympy.org/latest/modules/physics/units/index.html"
   ]
  },
  {
   "cell_type": "code",
   "execution_count": 4,
   "metadata": {},
   "outputs": [],
   "source": [
    "stories = Quantity(\"stories\", abbrev=\"st\")\n",
    "stories.set_global_dimension(height)"
   ]
  },
  {
   "cell_type": "markdown",
   "metadata": {},
   "source": [
    "### Variables\n",
    "These are all the variables in the equations we'll be using. For each of them, you need to specify\n",
    "the dimension, and the default units it's in. These will be the units in your equations\n",
    "(for example, newtons = kilogram * meters/second^2, but newtons != pounds * meters/second^2)\n",
    "If you don't provide a symbol, it will automatically use the one specified by the Dimension you\n",
    "passed it. If there's not one, or you want to change it, you can specify a symbol or symbols."
   ]
  },
  {
   "cell_type": "code",
   "execution_count": 5,
   "metadata": {},
   "outputs": [],
   "source": [
    "F = Variable(force, newtons, description='May it be with you.')\n",
    "M = Variable(mass, kilogram)\n",
    "A = Variable(acceleration, meters/second**2, ('A', 'accel'))\n",
    "v = Variable(velocity, meters/second, 'v')\n",
    "# We want the full name to be \"radius\", not \"length\"\n",
    "r = Variable(length, meters, 'r', name='radius')"
   ]
  },
  {
   "cell_type": "markdown",
   "metadata": {},
   "source": [
    "### Equations\n",
    "This is how you define the equations themselves. Equation(`left hand side`, `right hand side`, `optional description`)."
   ]
  },
  {
   "cell_type": "code",
   "execution_count": 6,
   "metadata": {},
   "outputs": [],
   "source": [
    "newtons_law = Equation(F, M*A, \"This is Newton's 2nd law of motion\")\n",
    "centripetal_motion = Equation(A, (v**2)/r)"
   ]
  },
  {
   "cell_type": "code",
   "execution_count": 7,
   "metadata": {},
   "outputs": [
    {
     "data": {
      "text/latex": [
       "$\\displaystyle F = A M$"
      ],
      "text/plain": [
       "Eq(F, A*M)"
      ]
     },
     "metadata": {},
     "output_type": "display_data"
    },
    {
     "name": "stdout",
     "output_type": "stream",
     "text": [
      "where:\n",
      "\tM is mass in units of kilogram\n",
      "\tF is force in units of newton\n",
      "\t\tMay it be with you.\n",
      "\tA is acceleration in units of meter/second**2\n",
      "\n",
      "This is Newton's 2nd law of motion\n"
     ]
    }
   ],
   "source": [
    "# If you ever forget how to use the equation, or what the variables are, you can use the help() method\n",
    "newtons_law.help()"
   ]
  },
  {
   "cell_type": "markdown",
   "metadata": {},
   "source": [
    "* You call equations just like function, by either their full name or their symbol. \n",
    "* Don't forget to include units!\n",
    "* You can also specify show_solved_term=True to see the term it automatically solved for\n",
    "* Units will automatically be converted to the default unit of the term we're solving for (i.e. the units used in the equation)"
   ]
  },
  {
   "cell_type": "code",
   "execution_count": 8,
   "metadata": {},
   "outputs": [
    {
     "data": {
      "text/latex": [
       "$\\displaystyle A = \\frac{400000000 \\text{m}}{45359237 \\text{s}^{2}}$"
      ],
      "text/plain": [
       "Eq(A, 400000000*meter/(45359237*second**2))"
      ]
     },
     "execution_count": 8,
     "metadata": {},
     "output_type": "execute_result"
    }
   ],
   "source": [
    "assert newtons_law(M=3*kg, F=12*newtons) == newtons_law(mass=3*kg, force=12*newtons)\n",
    "newtons_law(M=3*pounds, F=12*newtons, show_solved_term=True)"
   ]
  },
  {
   "cell_type": "markdown",
   "metadata": {},
   "source": [
    "If you don't want the answer in the default units, you can instead tell it what units you would like it in. If set to None, or something that doesn't make sense, it will give the default units. "
   ]
  },
  {
   "cell_type": "code",
   "execution_count": 9,
   "metadata": {},
   "outputs": [
    {
     "data": {
      "text/latex": [
       "$\\displaystyle M = \\frac{150000000 \\text{pound}}{45359237}$"
      ],
      "text/plain": [
       "Eq(M, 150000000*pound/45359237)"
      ]
     },
     "execution_count": 9,
     "metadata": {},
     "output_type": "execute_result"
    }
   ],
   "source": [
    "newtons_law(F=3*newtons, A=2*meters/second**2, show_solved_term=True, units=pounds)"
   ]
  },
  {
   "cell_type": "markdown",
   "metadata": {},
   "source": [
    "If you don't have enough variables known, and you want to solve symbolically for the other variables, you can do that too!"
   ]
  },
  {
   "cell_type": "code",
   "execution_count": 10,
   "metadata": {},
   "outputs": [
    {
     "data": {
      "text/latex": [
       "$\\displaystyle F = 3 A \\text{kg}$"
      ],
      "text/plain": [
       "Eq(F, 3*kilogram*A)"
      ]
     },
     "execution_count": 10,
     "metadata": {},
     "output_type": "execute_result"
    }
   ],
   "source": [
    "newtons_law(M=3*kg)"
   ]
  },
  {
   "cell_type": "markdown",
   "metadata": {},
   "source": [
    "Equations can also handle uncertainty. Uncertainties can be specified by either `<name>_unc`, `unc_<name>`, or `δ<name>`. Uncertainties should be plain numbers, or sympy expressions, and shouldn't include units."
   ]
  },
  {
   "cell_type": "code",
   "execution_count": 11,
   "metadata": {},
   "outputs": [
    {
     "data": {
      "text/latex": [
       "$\\displaystyle \\frac{4 \\text{m}}{\\text{s}^{2}}$"
      ],
      "text/plain": [
       "4*meter/second**2"
      ]
     },
     "metadata": {},
     "output_type": "display_data"
    },
    {
     "data": {
      "text/latex": [
       "$\\displaystyle \\frac{5}{3}$"
      ],
      "text/plain": [
       "5/3"
      ]
     },
     "metadata": {},
     "output_type": "display_data"
    }
   ],
   "source": [
    "accel, unc = newtons_law(M=3*kg, F=12*newtons, M_unc=1, unc_force=3)\n",
    "display(accel)\n",
    "display(unc)"
   ]
  },
  {
   "cell_type": "markdown",
   "metadata": {},
   "source": [
    "Uncertainties only work if all but 1 of the variables are specified (otherwise it doesn't really make\n",
    "much sense: how do you get the uncertainty of an equality?)\n",
    "However, if you only specify one uncertainty, it will still calculate the uncertainty symbolically"
   ]
  },
  {
   "cell_type": "code",
   "execution_count": 12,
   "metadata": {},
   "outputs": [
    {
     "data": {
      "text/latex": [
       "$\\displaystyle \\frac{\\sqrt{16 δM^{2} + 1}}{3}$"
      ],
      "text/plain": [
       "sqrt(16*δM**2 + 1)/3"
      ]
     },
     "execution_count": 12,
     "metadata": {},
     "output_type": "execute_result"
    }
   ],
   "source": [
    "newtons_law(M=3*kg, F=12*newtons, δF=1)[1]"
   ]
  },
  {
   "cell_type": "markdown",
   "metadata": {},
   "source": [
    "### Combining Equations\n",
    "You can combine multiple Equations the normal way:"
   ]
  },
  {
   "cell_type": "code",
   "execution_count": 13,
   "metadata": {},
   "outputs": [
    {
     "data": {
      "text/latex": [
       "$\\displaystyle r = \\frac{45359237 \\text{m}}{4000000}$"
      ],
      "text/plain": [
       "Eq(r, 45359237*meter/4000000)"
      ]
     },
     "execution_count": 13,
     "metadata": {},
     "output_type": "execute_result"
    }
   ],
   "source": [
    "accel = newtons_law(M=3*pounds, F=12*newtons)\n",
    "centripetal_motion(A=accel, v=10*meters/second, show_solved_term=True)"
   ]
  },
  {
   "cell_type": "markdown",
   "metadata": {},
   "source": [
    "You can also combine multiple equations by adding them together, then calling them the same way you call a single Equation (though it does have a slightly different interface). The new equation stuffs everything together and calculates everything it can from what you give it"
   ]
  },
  {
   "cell_type": "code",
   "execution_count": 14,
   "metadata": {},
   "outputs": [
    {
     "data": {
      "text/plain": [
       "{M: 3*kilogram,\n",
       " F: 12*newton,\n",
       " v: 10*meter/second,\n",
       " A: 4*meter/second**2,\n",
       " r: 25*meter}"
      ]
     },
     "execution_count": 14,
     "metadata": {},
     "output_type": "execute_result"
    }
   ],
   "source": [
    "radius_of_a_centrifuge = newtons_law + centripetal_motion\n",
    "radius_of_a_centrifuge(M=3*kg, F=12*newton, v=10*meters/second)"
   ]
  },
  {
   "cell_type": "markdown",
   "metadata": {},
   "source": [
    "This works the same way with uncertainties as well"
   ]
  },
  {
   "cell_type": "code",
   "execution_count": 17,
   "metadata": {},
   "outputs": [
    {
     "data": {
      "text/plain": [
       "{M: 3*kilogram,\n",
       " F: 12*newton,\n",
       " v: 10*meter/second,\n",
       " A: 4*meter/second**2,\n",
       " r: 25*meter,\n",
       " δM: 1,\n",
       " δF: 2,\n",
       " δv: 3,\n",
       " δA: 2*sqrt(5)/3,\n",
       " δr: 5*sqrt(449)/6}"
      ]
     },
     "execution_count": 17,
     "metadata": {},
     "output_type": "execute_result"
    }
   ],
   "source": [
    "radius_of_a_centrifuge(M=3*kg, F=12*newton, v=10*meters/second, unc_M=1, unc_force=2, v_unc=3)"
   ]
  },
  {
   "cell_type": "markdown",
   "metadata": {},
   "source": [
    "Note that adding equations together works slightly differently (it instaniates a `CombinedEquation` class), so if you want to combine multiple equations \"properly\" in a certain way, simply making a new, larger Equation might be a better idea."
   ]
  }
 ],
 "metadata": {
  "kernelspec": {
   "display_name": "base",
   "language": "python",
   "name": "python3"
  },
  "language_info": {
   "codemirror_mode": {
    "name": "ipython",
    "version": 3
   },
   "file_extension": ".py",
   "mimetype": "text/x-python",
   "name": "python",
   "nbconvert_exporter": "python",
   "pygments_lexer": "ipython3",
   "version": "3.12.2"
  }
 },
 "nbformat": 4,
 "nbformat_minor": 2
}
