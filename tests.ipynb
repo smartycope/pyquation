{
 "cells": [
  {
   "cell_type": "markdown",
   "metadata": {},
   "source": [
    "# Setup"
   ]
  },
  {
   "cell_type": "code",
   "execution_count": 1,
   "metadata": {},
   "outputs": [],
   "source": [
    "%load_ext autoreload\n",
    "%autoreload 2"
   ]
  },
  {
   "cell_type": "code",
   "execution_count": 2,
   "metadata": {},
   "outputs": [],
   "source": [
    "from pyquation import Equation, Variable\n",
    "from sympy import *\n",
    "from sympy.physics.units import *\n",
    "from sympy import S"
   ]
  },
  {
   "cell_type": "markdown",
   "metadata": {},
   "source": [
    "# The Basics"
   ]
  },
  {
   "cell_type": "code",
   "execution_count": 3,
   "metadata": {},
   "outputs": [],
   "source": [
    "F = Variable(force, newtons, description='May it be with you.')\n",
    "M = Variable(mass, kilogram)\n",
    "A = Variable(acceleration, meters/second**2, ('A', 'accel'))\n",
    "v = Variable(velocity, meters/second, 'v')\n",
    "r = Variable(length, meters, 'r', name='radius')"
   ]
  },
  {
   "cell_type": "code",
   "execution_count": 4,
   "metadata": {},
   "outputs": [],
   "source": [
    "assert F.name == 'F'\n",
    "assert F.full_name == 'force'\n",
    "assert F.all_names == ('F', 'force')\n",
    "assert A.name == 'A'\n",
    "assert A.all_names == ('A', 'acceleration', 'accel')"
   ]
  },
  {
   "cell_type": "code",
   "execution_count": 5,
   "metadata": {},
   "outputs": [],
   "source": [
    "nlaw = Equation(F, M*A, 'This is Newtons 2nd law of motion')\n",
    "\n",
    "# 1 less var\n",
    "Equation.show_solved_term = False\n",
    "assert nlaw(F=4*newton, M=2*kilogram) == 2*meters/second**2\n",
    "\n",
    "# show_solved_term\n",
    "Equation.show_solved_term = True\n",
    "assert nlaw(F=4*newton, M=2*kilogram) == Eq(A, 2*meters/second**2)\n",
    "Equation.show_solved_term = False\n",
    "assert nlaw(F=4*newton, M=2*kilogram, show_solved_term=True) == Eq(A, 2*meters/second**2)\n",
    "Equation.show_solved_term = True\n",
    "assert nlaw(F=4*newton, M=2*kilogram, show_solved_term=False) == 2*meters/second**2\n",
    "Equation.show_solved_term = False\n",
    "\n",
    "# convert_to(solve(nlaw(F=4*newton, M=7*pound), dict=True)[0][A], A.default_unit)\n",
    "\n",
    "# same number of vars\n",
    "assert nlaw(F=4*newton, M=2*kilogram, A=2*meters/second**2)\n",
    "assert not nlaw(F=4*newton, M=2*kilogram, A=3*meters/second**2)\n",
    "\n",
    "# Custom units works\n",
    "assert nlaw(F=4*newton, M=2*kilogram, units=feet/second**2) == S(2500)/381 * feet/second**2\n",
    "\n",
    "# Too few vars works\n",
    "assert nlaw(F=4*newton) == Equation(4*newton, A*M)\n",
    "assert nlaw(M=2*kilogram, units=gram) == Equation(F, 2000*A*gram)"
   ]
  },
  {
   "cell_type": "code",
   "execution_count": 6,
   "metadata": {},
   "outputs": [
    {
     "data": {
      "text/latex": [
       "$\\displaystyle 117.72 \\text{N}$"
      ],
      "text/plain": [
       "117.72*newton"
      ]
     },
     "execution_count": 6,
     "metadata": {},
     "output_type": "execute_result"
    }
   ],
   "source": [
    "nlaw(A=9.81*meters/second**2, M=12*kg)"
   ]
  },
  {
   "cell_type": "code",
   "execution_count": 7,
   "metadata": {},
   "outputs": [],
   "source": [
    "assert nlaw.variables == {A, F, M}"
   ]
  },
  {
   "cell_type": "code",
   "execution_count": 8,
   "metadata": {},
   "outputs": [],
   "source": [
    "assert nlaw.restructure(M) == [Equation(M, F/A)]"
   ]
  },
  {
   "cell_type": "markdown",
   "metadata": {},
   "source": [
    "# Naming, making sure things look right"
   ]
  },
  {
   "cell_type": "code",
   "execution_count": 9,
   "metadata": {},
   "outputs": [
    {
     "data": {
      "text/latex": [
       "$\\displaystyle F = A M$"
      ],
      "text/plain": [
       "Eq(F, A*M)"
      ]
     },
     "metadata": {},
     "output_type": "display_data"
    },
    {
     "name": "stdout",
     "output_type": "stream",
     "text": [
      "where:\n",
      "\tA is acceleration in units of meter/second**2\n",
      "\tM is mass in units of kilogram\n",
      "\tF is force in units of newton\n",
      "\t\tMay it be with you.\n",
      "\n",
      "This is Newtons 2nd law of motion\n"
     ]
    }
   ],
   "source": [
    "nlaw.help()"
   ]
  },
  {
   "cell_type": "code",
   "execution_count": 10,
   "metadata": {},
   "outputs": [
    {
     "data": {
      "text/latex": [
       "$\\displaystyle force = acceleration mass$"
      ],
      "text/plain": [
       "Eq(F, A*M)"
      ]
     },
     "metadata": {},
     "output_type": "display_data"
    }
   ],
   "source": [
    "nlaw.full_form()"
   ]
  },
  {
   "cell_type": "code",
   "execution_count": 11,
   "metadata": {},
   "outputs": [
    {
     "data": {
      "text/latex": [
       "$\\displaystyle F = A M$"
      ],
      "text/plain": [
       "Eq(F, A*M)"
      ]
     },
     "execution_count": 11,
     "metadata": {},
     "output_type": "execute_result"
    }
   ],
   "source": [
    "nlaw()"
   ]
  },
  {
   "cell_type": "code",
   "execution_count": 12,
   "metadata": {},
   "outputs": [],
   "source": [
    "# Parameter names\n",
    "assert nlaw(M=3*kg, F=2*newton) == nlaw(mass=3*kg, force=2*newton)\n",
    "assert (\n",
    "    nlaw(M=2*kg, F=2*newton, F_unc=1, M_unc=2) ==\n",
    "    nlaw(mass=2*kg, F=2*newton, force_unc=1, mass_unc=2) ==\n",
    "    nlaw(mass=2*kg, force=2*newton, unc_force=1, unc_M=2) ==\n",
    "    nlaw(mass=2*kg, F=2*newton, δforce=1, δM=2)\n",
    ")"
   ]
  },
  {
   "cell_type": "markdown",
   "metadata": {},
   "source": [
    "# Uncertianties"
   ]
  },
  {
   "cell_type": "code",
   "execution_count": 13,
   "metadata": {},
   "outputs": [],
   "source": [
    "# uncertinties with too few vars dont do anything\n",
    "assert nlaw(mass=3*kg, M_unc=2, δforce=3) == nlaw(mass=3*kg)"
   ]
  },
  {
   "cell_type": "code",
   "execution_count": 14,
   "metadata": {},
   "outputs": [],
   "source": [
    "assert nlaw(A=2*meters/second**2, F=4*newtons, F_unc=1, A_unc=1, units=pound)[1] == 50000000*sqrt(5)/45359237\n",
    "assert nlaw(A=2*meters/second**2, F=4*newtons, F_unc=1, A_unc=1)[1] == sqrt(5)/2"
   ]
  },
  {
   "cell_type": "markdown",
   "metadata": {},
   "source": [
    "# The remove_units function"
   ]
  },
  {
   "cell_type": "code",
   "execution_count": 15,
   "metadata": {},
   "outputs": [],
   "source": [
    "from functools import reduce\n",
    "from operator import mul\n",
    "from sympy import flatten\n",
    "\n",
    "# This is copied from Equation.py exactly\n",
    "def remove_units(expr):\n",
    "    return reduce(mul, (i for i in flatten(expr.as_coeff_mul()) if not len(i.atoms(Unit))))"
   ]
  },
  {
   "cell_type": "code",
   "execution_count": 16,
   "metadata": {},
   "outputs": [],
   "source": [
    "e = convert_to(3*foot, meters)\n",
    "assert remove_units(e) == S(1143)/1250\n",
    "assert 4 == remove_units(4*newtons)\n",
    "assert 4.3 == remove_units(4.3*meters/second**2)"
   ]
  },
  {
   "cell_type": "markdown",
   "metadata": {},
   "source": [
    "# CombinedEquation"
   ]
  },
  {
   "cell_type": "code",
   "execution_count": 17,
   "metadata": {},
   "outputs": [],
   "source": [
    "centripetal_motion = Equation(A, (v**2)/r)"
   ]
  },
  {
   "cell_type": "code",
   "execution_count": 18,
   "metadata": {},
   "outputs": [
    {
     "data": {
      "text/plain": [
       "{M: 3*kilogram,\n",
       " F: 12*newton,\n",
       " v: 10*meter/second,\n",
       " A: 4*meter/second**2,\n",
       " r: 25*meter}"
      ]
     },
     "execution_count": 18,
     "metadata": {},
     "output_type": "execute_result"
    }
   ],
   "source": [
    "radius_of_a_centrifuge = nlaw + centripetal_motion\n",
    "# We could do something here like rename variables (F to \"force_to_exert\" or something) and set variables equal to each other\n",
    "radius_of_a_centrifuge(M=3*kg, F=12*newton, v=10*meters/second)\n",
    "# Theoretically, this would return a dict of {Variables: values} for all the variables in all the equations"
   ]
  },
  {
   "cell_type": "code",
   "execution_count": 27,
   "metadata": {},
   "outputs": [],
   "source": [
    "assert radius_of_a_centrifuge(M=3*kg, F=12*newton, v=10*meters/second) == {\n",
    "    M: 3*kilogram,\n",
    "    F: 12*newton,\n",
    "    v: 10*meter/second,\n",
    "    A: 4*meter/second**2,\n",
    "    r: 25*meter\n",
    "}\n",
    "# assert radius_of_a_centrifuge(M=3*kg, F=12*newton) == {M: 3*kilogram, F: 12*newton, A: 4*meter/second**2, v: v, r: r}\n",
    "assert radius_of_a_centrifuge(M=3*kg, F=12*newton, fill_unknowns=None) == {M: 3*kilogram, F: 12*newton, A: 4*meter/second**2, v: None, r: None}\n",
    "assert radius_of_a_centrifuge(M=3*kg, F=12*newton, fill_unknowns=False) == {M: 3*kilogram, F: 12*newton, A: 4*meter/second**2}"
   ]
  },
  {
   "cell_type": "code",
   "execution_count": 55,
   "metadata": {},
   "outputs": [],
   "source": [
    "assert radius_of_a_centrifuge(M=3*kg, F=12*newton, unc_F=1, unc_M=1, fill_unknowns=False) == {\n",
    "    M: 3*kilogram,\n",
    "    F: 12*newton,\n",
    "    A: 4*meter/second**2,\n",
    "    Symbol('δF', positive=True): 1,\n",
    "    Symbol('δM', positive=True): 1,\n",
    "    Symbol('δA', positive=True): sqrt(17)/3\n",
    "}\n",
    "\n",
    "assert radius_of_a_centrifuge(M=3*kg, F=12*newton, unc_F=1, unc_M=1, fill_unknowns=True) == {\n",
    "    M: 3*kilogram,\n",
    "    F: 12*newton,\n",
    "    A: 4*meter/second**2,\n",
    "    r: Symbol('r'),\n",
    "    v: Symbol('v'),\n",
    "    Symbol('δF', positive=True): 1,\n",
    "    Symbol('δM', positive=True): 1,\n",
    "    Symbol('δA', positive=True): sqrt(17)/3,\n",
    "    Symbol('δr', positive=True): Symbol('δr', positive=True),\n",
    "    Symbol('δv', positive=True): Symbol('δv', positive=True)\n",
    "}\n",
    "\n",
    "assert radius_of_a_centrifuge(M=3*kg, F=12*newton, unc_F=1, M_unc=1, fill_unknowns=None) == {\n",
    "    M: 3*kilogram,\n",
    "    F: 12*newton,\n",
    "    A: 4*meter/second**2,\n",
    "    r: None,\n",
    "    v: None,\n",
    "    Symbol('δF', positive=True): 1,\n",
    "    Symbol('δM', positive=True): 1,\n",
    "    Symbol('δA', positive=True): sqrt(17)/3,\n",
    "    Symbol('δr', positive=True): None,\n",
    "    Symbol('δv', positive=True): None\n",
    "}"
   ]
  }
 ],
 "metadata": {
  "kernelspec": {
   "display_name": "base",
   "language": "python",
   "name": "python3"
  },
  "language_info": {
   "codemirror_mode": {
    "name": "ipython",
    "version": 3
   },
   "file_extension": ".py",
   "mimetype": "text/x-python",
   "name": "python",
   "nbconvert_exporter": "python",
   "pygments_lexer": "ipython3",
   "version": "3.12.2"
  }
 },
 "nbformat": 4,
 "nbformat_minor": 2
}
