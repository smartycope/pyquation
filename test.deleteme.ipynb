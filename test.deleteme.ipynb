{
 "cells": [
  {
   "cell_type": "code",
   "execution_count": 39,
   "metadata": {},
   "outputs": [
    {
     "name": "stdout",
     "output_type": "stream",
     "text": [
      "The autoreload extension is already loaded. To reload it, use:\n",
      "  %reload_ext autoreload\n"
     ]
    }
   ],
   "source": [
    "%load_ext autoreload\n",
    "%autoreload 2"
   ]
  },
  {
   "cell_type": "code",
   "execution_count": 40,
   "metadata": {},
   "outputs": [],
   "source": [
    "from pyquation import Equation, Variable\n",
    "from sympy import *\n",
    "from sympy.physics.units import *\n",
    "from sympy import S"
   ]
  },
  {
   "cell_type": "code",
   "execution_count": 41,
   "metadata": {},
   "outputs": [],
   "source": [
    "F = Variable(force, newtons)\n",
    "M = Variable(mass, kilogram)\n",
    "A = Variable(acceleration, meters/second**2, 'A')"
   ]
  },
  {
   "cell_type": "code",
   "execution_count": 42,
   "metadata": {},
   "outputs": [],
   "source": [
    "assert F.name == 'F'\n",
    "assert F.full_name == 'force'\n",
    "assert F.all_names == ('F', 'force')\n",
    "assert A.name == 'A'\n",
    "assert A.all_names == ('A', 'acceleration')"
   ]
  },
  {
   "cell_type": "code",
   "execution_count": 43,
   "metadata": {},
   "outputs": [
    {
     "ename": "AssertionError",
     "evalue": "",
     "output_type": "error",
     "traceback": [
      "\u001b[0;31m---------------------------------------------------------------------------\u001b[0m",
      "\u001b[0;31mAssertionError\u001b[0m                            Traceback (most recent call last)",
      "Cell \u001b[0;32mIn[43], line 9\u001b[0m\n\u001b[1;32m      7\u001b[0m \u001b[38;5;66;03m# show_solved_term\u001b[39;00m\n\u001b[1;32m      8\u001b[0m Equation\u001b[38;5;241m.\u001b[39mshow_solved_term \u001b[38;5;241m=\u001b[39m \u001b[38;5;28;01mTrue\u001b[39;00m\n\u001b[0;32m----> 9\u001b[0m \u001b[38;5;28;01massert\u001b[39;00m nlaw(F\u001b[38;5;241m=\u001b[39m\u001b[38;5;241m4\u001b[39m\u001b[38;5;241m*\u001b[39mnewton, M\u001b[38;5;241m=\u001b[39m\u001b[38;5;241m2\u001b[39m\u001b[38;5;241m*\u001b[39mkilogram) \u001b[38;5;241m==\u001b[39m Eq(A, \u001b[38;5;241m2\u001b[39m\u001b[38;5;241m*\u001b[39mmeters\u001b[38;5;241m/\u001b[39msecond\u001b[38;5;241m*\u001b[39m\u001b[38;5;241m*\u001b[39m\u001b[38;5;241m2\u001b[39m)\n\u001b[1;32m     10\u001b[0m Equation\u001b[38;5;241m.\u001b[39mshow_solved_term \u001b[38;5;241m=\u001b[39m \u001b[38;5;28;01mFalse\u001b[39;00m\n\u001b[1;32m     11\u001b[0m \u001b[38;5;28;01massert\u001b[39;00m nlaw(F\u001b[38;5;241m=\u001b[39m\u001b[38;5;241m4\u001b[39m\u001b[38;5;241m*\u001b[39mnewton, M\u001b[38;5;241m=\u001b[39m\u001b[38;5;241m2\u001b[39m\u001b[38;5;241m*\u001b[39mkilogram, show_solved_term\u001b[38;5;241m=\u001b[39m\u001b[38;5;28;01mTrue\u001b[39;00m) \u001b[38;5;241m==\u001b[39m Eq(A, \u001b[38;5;241m2\u001b[39m\u001b[38;5;241m*\u001b[39mmeters\u001b[38;5;241m/\u001b[39msecond\u001b[38;5;241m*\u001b[39m\u001b[38;5;241m*\u001b[39m\u001b[38;5;241m2\u001b[39m)\n",
      "\u001b[0;31mAssertionError\u001b[0m: "
     ]
    }
   ],
   "source": [
    "nlaw = Equation(F, M*A, 'This is Newtons 2nd law of motion')\n",
    "\n",
    "# 1 less var\n",
    "Equation.show_solved_term = False\n",
    "assert nlaw(F=4*newton, M=2*kilogram) == 2*meters/second**2\n",
    "\n",
    "# show_solved_term\n",
    "Equation.show_solved_term = True\n",
    "assert nlaw(F=4*newton, M=2*kilogram) == Eq(A, 2*meters/second**2)\n",
    "Equation.show_solved_term = False\n",
    "assert nlaw(F=4*newton, M=2*kilogram, show_solved_term=True) == Eq(A, 2*meters/second**2)\n",
    "Equation.show_solved_term = True\n",
    "assert nlaw(F=4*newton, M=2*kilogram, show_solved_term=False) == 2*meters/second**2\n",
    "Equation.show_solved_term = False\n",
    "\n",
    "# convert_to(solve(nlaw(F=4*newton, M=7*pound), dict=True)[0][A], A.default_unit)\n",
    "\n",
    "# same number of vars\n",
    "assert nlaw(F=4*newton, M=2*kilogram, A=2*meters/second**2)\n",
    "assert not nlaw(F=4*newton, M=2*kilogram, A=3*meters/second**2)\n",
    "\n",
    "# Custom units works\n",
    "assert nlaw(F=4*newton, M=2*kilogram, units=feet/second**2) == S(2500)/381 * feet/second**2\n",
    "\n",
    "# Too few vars works\n",
    "assert nlaw(F=4*newton) == Equation(4*newton, A*M)\n",
    "assert nlaw(M=2*kilogram, units=gram) == Equation(F, 2000*A*gram)"
   ]
  },
  {
   "cell_type": "code",
   "execution_count": null,
   "metadata": {},
   "outputs": [
    {
     "data": {
      "text/latex": [
       "$\\displaystyle 117.72 \\text{N}$"
      ],
      "text/plain": [
       "117.72*newton"
      ]
     },
     "execution_count": 6,
     "metadata": {},
     "output_type": "execute_result"
    }
   ],
   "source": [
    "nlaw(A=9.81*meters/second**2, M=12*kg)"
   ]
  },
  {
   "cell_type": "code",
   "execution_count": null,
   "metadata": {},
   "outputs": [],
   "source": [
    "assert nlaw.variables == {A, F, M}"
   ]
  },
  {
   "cell_type": "code",
   "execution_count": null,
   "metadata": {},
   "outputs": [],
   "source": [
    "assert nlaw.restructure(M) == [Equation(M, F/A)]"
   ]
  },
  {
   "cell_type": "code",
   "execution_count": null,
   "metadata": {},
   "outputs": [
    {
     "data": {
      "text/latex": [
       "$\\displaystyle F = A M$"
      ],
      "text/plain": [
       "Eq(F, A*M)"
      ]
     },
     "metadata": {},
     "output_type": "display_data"
    },
    {
     "name": "stdout",
     "output_type": "stream",
     "text": [
      "where:\n",
      "\tF is force in units of newton\n",
      "\tM is mass in units of kilogram\n",
      "\tA is acceleration in units of meter/second**2\n",
      "\n",
      "This is Newtons 2nd law of motion\n"
     ]
    }
   ],
   "source": [
    "nlaw.help()"
   ]
  },
  {
   "cell_type": "code",
   "execution_count": null,
   "metadata": {},
   "outputs": [
    {
     "data": {
      "text/latex": [
       "$\\displaystyle force = acceleration mass$"
      ],
      "text/plain": [
       "Eq(F, A*M)"
      ]
     },
     "metadata": {},
     "output_type": "display_data"
    }
   ],
   "source": [
    "nlaw.full_form()"
   ]
  },
  {
   "cell_type": "code",
   "execution_count": null,
   "metadata": {},
   "outputs": [
    {
     "data": {
      "text/latex": [
       "$\\displaystyle F = A M$"
      ],
      "text/plain": [
       "Eq(F, A*M)"
      ]
     },
     "execution_count": 11,
     "metadata": {},
     "output_type": "execute_result"
    }
   ],
   "source": [
    "nlaw()"
   ]
  },
  {
   "cell_type": "code",
   "execution_count": null,
   "metadata": {},
   "outputs": [],
   "source": [
    "# uncertinties with too few vars dont do anything\n",
    "assert nlaw(mass=3*kg, M_unc=2, δforce=3) == nlaw(mass=3*kg)"
   ]
  },
  {
   "cell_type": "code",
   "execution_count": null,
   "metadata": {},
   "outputs": [],
   "source": [
    "# Parameter names\n",
    "assert nlaw(M=3*kg, F=2*newton) == nlaw(mass=3*kg, force=2*newton)\n",
    "assert (\n",
    "    nlaw(M=2*kg, F=2*newton, F_unc=1, M_unc=2) ==\n",
    "    nlaw(mass=2*kg, F=2*newton, force_unc=1, mass_unc=2) ==\n",
    "    nlaw(mass=2*kg, force=2*newton, unc_force=1, unc_M=2) ==\n",
    "    nlaw(mass=2*kg, F=2*newton, δforce=1, δM=2)\n",
    ")"
   ]
  },
  {
   "cell_type": "code",
   "execution_count": null,
   "metadata": {},
   "outputs": [
    {
     "ename": "AttributeError",
     "evalue": "'Symbol' object has no attribute 'default_unit'",
     "output_type": "error",
     "traceback": [
      "\u001b[0;31m---------------------------------------------------------------------------\u001b[0m",
      "\u001b[0;31mAttributeError\u001b[0m                            Traceback (most recent call last)",
      "Cell \u001b[0;32mIn[69], line 4\u001b[0m\n\u001b[1;32m      1\u001b[0m \u001b[38;5;66;03m# TODO: tests for specifying the unit in the Equation call, and also making sure the uncertainty is correct (in the correct units)\u001b[39;00m\n\u001b[1;32m      3\u001b[0m nlaw(A\u001b[38;5;241m=\u001b[39m\u001b[38;5;241m2\u001b[39m\u001b[38;5;241m*\u001b[39mmeters\u001b[38;5;241m/\u001b[39msecond\u001b[38;5;241m*\u001b[39m\u001b[38;5;241m*\u001b[39m\u001b[38;5;241m2\u001b[39m, F\u001b[38;5;241m=\u001b[39m\u001b[38;5;241m4\u001b[39m\u001b[38;5;241m*\u001b[39mnewtons, units\u001b[38;5;241m=\u001b[39mpound)\n\u001b[0;32m----> 4\u001b[0m a \u001b[38;5;241m=\u001b[39m \u001b[43mnlaw\u001b[49m\u001b[43m(\u001b[49m\u001b[43mA\u001b[49m\u001b[38;5;241;43m=\u001b[39;49m\u001b[38;5;241;43m2\u001b[39;49m\u001b[38;5;241;43m*\u001b[39;49m\u001b[43mmeters\u001b[49m\u001b[38;5;241;43m/\u001b[39;49m\u001b[43msecond\u001b[49m\u001b[38;5;241;43m*\u001b[39;49m\u001b[38;5;241;43m*\u001b[39;49m\u001b[38;5;241;43m2\u001b[39;49m\u001b[43m,\u001b[49m\u001b[43m \u001b[49m\u001b[43mF\u001b[49m\u001b[38;5;241;43m=\u001b[39;49m\u001b[38;5;241;43m4\u001b[39;49m\u001b[38;5;241;43m*\u001b[39;49m\u001b[43mnewtons\u001b[49m\u001b[43m,\u001b[49m\u001b[43m \u001b[49m\u001b[43mF_unc\u001b[49m\u001b[38;5;241;43m=\u001b[39;49m\u001b[38;5;241;43m1\u001b[39;49m\u001b[43m,\u001b[49m\u001b[43m \u001b[49m\u001b[43mA_unc\u001b[49m\u001b[38;5;241;43m=\u001b[39;49m\u001b[38;5;241;43m1\u001b[39;49m\u001b[43m,\u001b[49m\u001b[43m \u001b[49m\u001b[43munits\u001b[49m\u001b[38;5;241;43m=\u001b[39;49m\u001b[43mpound\u001b[49m\u001b[43m)\u001b[49m[\u001b[38;5;241m1\u001b[39m]\u001b[38;5;241m.\u001b[39mas_coeff_mul()\n",
      "File \u001b[0;32m~/hello/pyquation/pyquation/Equation.py:119\u001b[0m, in \u001b[0;36mEquation.__call__\u001b[0;34m(self, units, show_solved_term, **values)\u001b[0m\n\u001b[1;32m    117\u001b[0m \u001b[38;5;66;03m# If there's any uncertainties specified, return both the answer, and it's uncertainty\u001b[39;00m\n\u001b[1;32m    118\u001b[0m \u001b[38;5;28;01mif\u001b[39;00m \u001b[38;5;28mlen\u001b[39m(uncertainties):\n\u001b[0;32m--> 119\u001b[0m     unc \u001b[38;5;241m=\u001b[39m \u001b[38;5;28;43mself\u001b[39;49m\u001b[38;5;241;43m.\u001b[39;49m\u001b[43m_get_uncertainty\u001b[49m\u001b[43m(\u001b[49m\u001b[43msolve\u001b[49m\u001b[43m(\u001b[49m\u001b[38;5;28;43mself\u001b[39;49m\u001b[43m,\u001b[49m\u001b[43m \u001b[49m\u001b[43msolve_for\u001b[49m\u001b[43m,\u001b[49m\u001b[43m \u001b[49m\u001b[38;5;28;43mlist\u001b[39;49m\u001b[38;5;241;43m=\u001b[39;49m\u001b[38;5;28;43;01mTrue\u001b[39;49;00m\u001b[43m)\u001b[49m\u001b[43m[\u001b[49m\u001b[38;5;241;43m0\u001b[39;49m\u001b[43m]\u001b[49m\u001b[43m,\u001b[49m\u001b[43m \u001b[49m\u001b[43mvals\u001b[49m\u001b[43m,\u001b[49m\u001b[43m \u001b[49m\u001b[43muncertainties\u001b[49m\u001b[43m)\u001b[49m\n\u001b[1;32m    120\u001b[0m     \u001b[38;5;66;03m# Uncertainty is going to be in the default units for that variable. If we specify the units, we also need to convert the uncertainty\u001b[39;00m\n\u001b[1;32m    121\u001b[0m     \u001b[38;5;28;01mif\u001b[39;00m units:\n\u001b[1;32m    122\u001b[0m         \u001b[38;5;66;03m# unc = convert_to(unc*solve_for.default_unit, units).as_coeff_mul()[0]\u001b[39;00m\n",
      "File \u001b[0;32m~/hello/pyquation/pyquation/Equation.py:87\u001b[0m, in \u001b[0;36mEquation._get_uncertainty\u001b[0;34m(self, expr, values, uncertainties)\u001b[0m\n\u001b[1;32m     78\u001b[0m \u001b[38;5;28;01mdef\u001b[39;00m \u001b[38;5;21m_get_uncertainty\u001b[39m(\u001b[38;5;28mself\u001b[39m, expr, values, uncertainties):\n\u001b[1;32m     79\u001b[0m     \u001b[38;5;66;03m# This implements the uncertainty equation\u001b[39;00m\n\u001b[1;32m     80\u001b[0m     \u001b[38;5;28;01mreturn\u001b[39;00m \u001b[38;5;28mabs\u001b[39m(sqrt(\u001b[38;5;28msum\u001b[39m(\n\u001b[1;32m     81\u001b[0m             \u001b[38;5;66;03m# Units in uncertainties don't make a ton of sense (at least, as far as I can tell)\u001b[39;00m\n\u001b[1;32m     82\u001b[0m             diff(expr, val)\u001b[38;5;241m*\u001b[39m\u001b[38;5;241m*\u001b[39m\u001b[38;5;241m2\u001b[39m \u001b[38;5;241m*\u001b[39m Symbol(\u001b[38;5;124m\"\u001b[39m\u001b[38;5;124mδ\u001b[39m\u001b[38;5;124m\"\u001b[39m \u001b[38;5;241m+\u001b[39m val\u001b[38;5;241m.\u001b[39mname, positive\u001b[38;5;241m=\u001b[39m\u001b[38;5;28;01mTrue\u001b[39;00m)\u001b[38;5;241m*\u001b[39m\u001b[38;5;241m*\u001b[39m\u001b[38;5;241m2\u001b[39m\n\u001b[1;32m     83\u001b[0m             \u001b[38;5;28;01mfor\u001b[39;00m val \u001b[38;5;129;01min\u001b[39;00m values\u001b[38;5;241m.\u001b[39mkeys()\n\u001b[1;32m     84\u001b[0m         )))\u001b[38;5;241m.\u001b[39msubs(\n\u001b[1;32m     85\u001b[0m             \u001b[38;5;66;03m# Convert to the default units (the ones that should be used byuncertainties the equation), and then remove the units\u001b[39;00m\n\u001b[1;32m     86\u001b[0m             \u001b[38;5;66;03m# This shouldn't have to deal with symbols, *I think*\u001b[39;00m\n\u001b[0;32m---> 87\u001b[0m             {sym: remove_units(convert_to(val, \u001b[43msym\u001b[49m\u001b[38;5;241;43m.\u001b[39;49m\u001b[43mdefault_unit\u001b[49m)) \u001b[38;5;28;01mfor\u001b[39;00m sym, val \u001b[38;5;129;01min\u001b[39;00m (values \u001b[38;5;241m|\u001b[39m uncertainties)\u001b[38;5;241m.\u001b[39mitems()},\n\u001b[1;32m     88\u001b[0m         )\u001b[38;5;241m.\u001b[39msimplify()\n",
      "\u001b[0;31mAttributeError\u001b[0m: 'Symbol' object has no attribute 'default_unit'"
     ]
    }
   ],
   "source": [
    "# TODO: tests for specifying the unit in the Equation call, and also making sure the uncertainty is correct (in the correct units)\n",
    "\n",
    "nlaw(A=2*meters/second**2, F=4*newtons, units=pound)\n",
    "a = nlaw(A=2*meters/second**2, F=4*newtons, F_unc=1, A_unc=1, units=pound)[1].as_coeff_mul()\n"
   ]
  },
  {
   "cell_type": "code",
   "execution_count": null,
   "metadata": {},
   "outputs": [
    {
     "data": {
      "text/plain": [
       "(1143/1250, meter)"
      ]
     },
     "execution_count": 15,
     "metadata": {},
     "output_type": "execute_result"
    }
   ],
   "source": [
    "e = convert_to(3*foot, meters)\n",
    "{i for i in e.atoms() if not isinstance(i, (Unit, Symbol))}\n",
    "# e.replace(e.atoms(Unit, Symbol), 1, map=True)\n",
    "e.as_coeff_Mul()"
   ]
  },
  {
   "cell_type": "code",
   "execution_count": null,
   "metadata": {},
   "outputs": [
    {
     "data": {
      "text/plain": [
       "(1, foot*a)"
      ]
     },
     "execution_count": 16,
     "metadata": {},
     "output_type": "execute_result"
    }
   ],
   "source": [
    "(Symbol('a')*foot).as_coeff_Mul()"
   ]
  },
  {
   "cell_type": "code",
   "execution_count": null,
   "metadata": {},
   "outputs": [
    {
     "data": {
      "text/latex": [
       "$\\displaystyle 8 a - 2 b - c$"
      ],
      "text/plain": [
       "8*a - 2*b - c"
      ]
     },
     "execution_count": 17,
     "metadata": {},
     "output_type": "execute_result"
    }
   ],
   "source": [
    "e = 8*Symbol('a') - 2*Symbol('b') - Symbol('c')\n",
    "e"
   ]
  },
  {
   "cell_type": "code",
   "execution_count": null,
   "metadata": {},
   "outputs": [
    {
     "data": {
      "text/latex": [
       "$\\displaystyle 8 a - c - 2$"
      ],
      "text/plain": [
       "8*a - c - 2"
      ]
     },
     "execution_count": 18,
     "metadata": {},
     "output_type": "execute_result"
    }
   ],
   "source": [
    "e.replace(Symbol('b'), 1)"
   ]
  },
  {
   "cell_type": "code",
   "execution_count": null,
   "metadata": {},
   "outputs": [],
   "source": [
    "from uncertainties import ufloat as uf\n",
    "from uncertainties import ufloat"
   ]
  },
  {
   "cell_type": "code",
   "execution_count": null,
   "metadata": {},
   "outputs": [
    {
     "ename": "TypeError",
     "evalue": "can't convert an affine function (<class 'uncertainties.core.Variable'>) to float; use x.nominal_value",
     "output_type": "error",
     "traceback": [
      "\u001b[0;31m---------------------------------------------------------------------------\u001b[0m",
      "\u001b[0;31mTypeError\u001b[0m                                 Traceback (most recent call last)",
      "Cell \u001b[0;32mIn[20], line 1\u001b[0m\n\u001b[0;32m----> 1\u001b[0m nlaw(F\u001b[38;5;241m=\u001b[39m\u001b[43muf\u001b[49m\u001b[43m(\u001b[49m\u001b[38;5;241;43m7\u001b[39;49m\u001b[43m,\u001b[49m\u001b[43m \u001b[49m\u001b[38;5;241;43m3\u001b[39;49m\u001b[43m)\u001b[49m\u001b[38;5;241;43m*\u001b[39;49m\u001b[43mnewton\u001b[49m)\n",
      "File \u001b[0;32m~/Software/miniconda3/lib/python3.12/site-packages/sympy/core/decorators.py:231\u001b[0m, in \u001b[0;36m_SympifyWrapper.make_wrapped.<locals>._func\u001b[0;34m(self, other)\u001b[0m\n\u001b[1;32m    229\u001b[0m \u001b[38;5;28;01mif\u001b[39;00m \u001b[38;5;129;01mnot\u001b[39;00m \u001b[38;5;28mhasattr\u001b[39m(other, \u001b[38;5;124m'\u001b[39m\u001b[38;5;124m_op_priority\u001b[39m\u001b[38;5;124m'\u001b[39m):\n\u001b[1;32m    230\u001b[0m     \u001b[38;5;28;01mtry\u001b[39;00m:\n\u001b[0;32m--> 231\u001b[0m         other \u001b[38;5;241m=\u001b[39m \u001b[43msympify\u001b[49m\u001b[43m(\u001b[49m\u001b[43mother\u001b[49m\u001b[43m,\u001b[49m\u001b[43m \u001b[49m\u001b[43mstrict\u001b[49m\u001b[38;5;241;43m=\u001b[39;49m\u001b[38;5;28;43;01mTrue\u001b[39;49;00m\u001b[43m)\u001b[49m\n\u001b[1;32m    232\u001b[0m     \u001b[38;5;28;01mexcept\u001b[39;00m SympifyError:\n\u001b[1;32m    233\u001b[0m         \u001b[38;5;28;01mreturn\u001b[39;00m retval\n",
      "File \u001b[0;32m~/Software/miniconda3/lib/python3.12/site-packages/sympy/core/sympify.py:449\u001b[0m, in \u001b[0;36msympify\u001b[0;34m(a, locals, convert_xor, strict, rational, evaluate)\u001b[0m\n\u001b[1;32m    445\u001b[0m                 \u001b[38;5;28;01mpass\u001b[39;00m\n\u001b[1;32m    446\u001b[0m \u001b[38;5;28;01melif\u001b[39;00m \u001b[38;5;28mhasattr\u001b[39m(a, \u001b[38;5;124m'\u001b[39m\u001b[38;5;124m__float__\u001b[39m\u001b[38;5;124m'\u001b[39m):\n\u001b[1;32m    447\u001b[0m     \u001b[38;5;66;03m# float and int can coerce size-one numpy arrays to their lone\u001b[39;00m\n\u001b[1;32m    448\u001b[0m     \u001b[38;5;66;03m# element.  See issue https://github.com/numpy/numpy/issues/10404.\u001b[39;00m\n\u001b[0;32m--> 449\u001b[0m     \u001b[38;5;28;01mreturn\u001b[39;00m sympify(\u001b[38;5;28;43mfloat\u001b[39;49m\u001b[43m(\u001b[49m\u001b[43ma\u001b[49m\u001b[43m)\u001b[49m)\n\u001b[1;32m    450\u001b[0m \u001b[38;5;28;01melif\u001b[39;00m \u001b[38;5;28mhasattr\u001b[39m(a, \u001b[38;5;124m'\u001b[39m\u001b[38;5;124m__int__\u001b[39m\u001b[38;5;124m'\u001b[39m):\n\u001b[1;32m    451\u001b[0m     \u001b[38;5;28;01mreturn\u001b[39;00m sympify(\u001b[38;5;28mint\u001b[39m(a))\n",
      "File \u001b[0;32m~/Software/miniconda3/lib/python3.12/site-packages/uncertainties/core.py:2611\u001b[0m, in \u001b[0;36madd_operators_to_AffineScalarFunc.<locals>.raise_error\u001b[0;34m(self)\u001b[0m\n\u001b[1;32m   2610\u001b[0m \u001b[38;5;28;01mdef\u001b[39;00m \u001b[38;5;21mraise_error\u001b[39m(\u001b[38;5;28mself\u001b[39m):\n\u001b[0;32m-> 2611\u001b[0m     \u001b[38;5;28;01mraise\u001b[39;00m \u001b[38;5;167;01mTypeError\u001b[39;00m(\u001b[38;5;124m\"\u001b[39m\u001b[38;5;124mcan\u001b[39m\u001b[38;5;124m'\u001b[39m\u001b[38;5;124mt convert an affine function (\u001b[39m\u001b[38;5;132;01m%s\u001b[39;00m\u001b[38;5;124m)\u001b[39m\u001b[38;5;124m\"\u001b[39m\n\u001b[1;32m   2612\u001b[0m                     \u001b[38;5;124m'\u001b[39m\u001b[38;5;124m to \u001b[39m\u001b[38;5;132;01m%s\u001b[39;00m\u001b[38;5;124m; use x.nominal_value\u001b[39m\u001b[38;5;124m'\u001b[39m\n\u001b[1;32m   2613\u001b[0m                     \u001b[38;5;66;03m# In case AffineScalarFunc is sub-classed:\u001b[39;00m\n\u001b[1;32m   2614\u001b[0m                     \u001b[38;5;241m%\u001b[39m (\u001b[38;5;28mself\u001b[39m\u001b[38;5;241m.\u001b[39m\u001b[38;5;18m__class__\u001b[39m, coercion_type))\n",
      "\u001b[0;31mTypeError\u001b[0m: can't convert an affine function (<class 'uncertainties.core.Variable'>) to float; use x.nominal_value"
     ]
    }
   ],
   "source": [
    "nlaw(F=uf(7, 3)*newton)"
   ]
  },
  {
   "cell_type": "code",
   "execution_count": null,
   "metadata": {},
   "outputs": [
    {
     "data": {
      "text/plain": [
       "7.0+/-3.0"
      ]
     },
     "execution_count": 33,
     "metadata": {},
     "output_type": "execute_result"
    }
   ],
   "source": [
    "uf(7, 3)"
   ]
  },
  {
   "cell_type": "code",
   "execution_count": null,
   "metadata": {},
   "outputs": [
    {
     "ename": "NameError",
     "evalue": "name 'ufloat' is not defined",
     "output_type": "error",
     "traceback": [
      "\u001b[0;31m---------------------------------------------------------------------------\u001b[0m",
      "\u001b[0;31mNameError\u001b[0m                                 Traceback (most recent call last)",
      "Cell \u001b[0;32mIn[35], line 1\u001b[0m\n\u001b[0;32m----> 1\u001b[0m lambdify([\u001b[38;5;124m'\u001b[39m\u001b[38;5;124mmean\u001b[39m\u001b[38;5;124m'\u001b[39m, \u001b[38;5;124m'\u001b[39m\u001b[38;5;124mstd\u001b[39m\u001b[38;5;124m'\u001b[39m], \u001b[43mufloat\u001b[49m, modules\u001b[38;5;241m=\u001b[39m\u001b[38;5;124m'\u001b[39m\u001b[38;5;124muncertainties\u001b[39m\u001b[38;5;124m'\u001b[39m)\n",
      "\u001b[0;31mNameError\u001b[0m: name 'ufloat' is not defined"
     ]
    }
   ],
   "source": [
    "lambdify(['mean', 'std'], ufloat, modules='uncertainties')"
   ]
  },
  {
   "cell_type": "code",
   "execution_count": null,
   "metadata": {},
   "outputs": [
    {
     "data": {
      "text/latex": [
       "$\\displaystyle L^{2} x + L x_{1} + x_{3}$"
      ],
      "text/plain": [
       "L**2*x + L*x1 + x3"
      ]
     },
     "metadata": {},
     "output_type": "display_data"
    },
    {
     "ename": "TypeError",
     "evalue": "can't convert an affine function (<class 'uncertainties.core.Variable'>) to float; use x.nominal_value",
     "output_type": "error",
     "traceback": [
      "\u001b[0;31m---------------------------------------------------------------------------\u001b[0m",
      "\u001b[0;31mTypeError\u001b[0m                                 Traceback (most recent call last)",
      "Cell \u001b[0;32mIn[54], line 6\u001b[0m\n\u001b[1;32m      4\u001b[0m \u001b[38;5;66;03m# s = solve(eqn,L)\u001b[39;00m\n\u001b[1;32m      5\u001b[0m display(eqn)\n\u001b[0;32m----> 6\u001b[0m \u001b[43mlambdify\u001b[49m\u001b[43m(\u001b[49m\u001b[43m[\u001b[49m\u001b[43mx\u001b[49m\u001b[43m,\u001b[49m\u001b[43m \u001b[49m\u001b[43mx1\u001b[49m\u001b[43m,\u001b[49m\u001b[43m \u001b[49m\u001b[43mx3\u001b[49m\u001b[43m]\u001b[49m\u001b[43m,\u001b[49m\u001b[43m \u001b[49m\u001b[43meqn\u001b[49m\u001b[43m)\u001b[49m\u001b[43m(\u001b[49m\u001b[43mufloat\u001b[49m\u001b[43m(\u001b[49m\u001b[38;5;241;43m10\u001b[39;49m\u001b[43m,\u001b[49m\u001b[38;5;241;43m0.2\u001b[39;49m\u001b[43m)\u001b[49m\u001b[43m,\u001b[49m\u001b[43m \u001b[49m\u001b[43mufloat\u001b[49m\u001b[43m(\u001b[49m\u001b[38;5;241;43m8\u001b[39;49m\u001b[43m,\u001b[49m\u001b[38;5;241;43m0.01\u001b[39;49m\u001b[43m)\u001b[49m\u001b[43m,\u001b[49m\u001b[43m \u001b[49m\u001b[43mufloat\u001b[49m\u001b[43m(\u001b[49m\u001b[38;5;241;43m25\u001b[39;49m\u001b[43m,\u001b[49m\u001b[38;5;241;43m2\u001b[39;49m\u001b[43m)\u001b[49m\u001b[43m)\u001b[49m\n",
      "File \u001b[0;32m<lambdifygenerated-8>:2\u001b[0m, in \u001b[0;36m_lambdifygenerated\u001b[0;34m(x, x1, x3)\u001b[0m\n\u001b[1;32m      1\u001b[0m \u001b[38;5;28;01mdef\u001b[39;00m \u001b[38;5;21m_lambdifygenerated\u001b[39m(x, x1, x3):\n\u001b[0;32m----> 2\u001b[0m     \u001b[38;5;28;01mreturn\u001b[39;00m \u001b[43mL\u001b[49m\u001b[38;5;241;43m*\u001b[39;49m\u001b[38;5;241;43m*\u001b[39;49m\u001b[38;5;241;43m2\u001b[39;49m\u001b[38;5;241;43m*\u001b[39;49m\u001b[43mx\u001b[49m \u001b[38;5;241m+\u001b[39m L\u001b[38;5;241m*\u001b[39mx1 \u001b[38;5;241m+\u001b[39m x3\n",
      "File \u001b[0;32m~/Software/miniconda3/lib/python3.12/site-packages/sympy/core/decorators.py:231\u001b[0m, in \u001b[0;36m_SympifyWrapper.make_wrapped.<locals>._func\u001b[0;34m(self, other)\u001b[0m\n\u001b[1;32m    229\u001b[0m \u001b[38;5;28;01mif\u001b[39;00m \u001b[38;5;129;01mnot\u001b[39;00m \u001b[38;5;28mhasattr\u001b[39m(other, \u001b[38;5;124m'\u001b[39m\u001b[38;5;124m_op_priority\u001b[39m\u001b[38;5;124m'\u001b[39m):\n\u001b[1;32m    230\u001b[0m     \u001b[38;5;28;01mtry\u001b[39;00m:\n\u001b[0;32m--> 231\u001b[0m         other \u001b[38;5;241m=\u001b[39m \u001b[43msympify\u001b[49m\u001b[43m(\u001b[49m\u001b[43mother\u001b[49m\u001b[43m,\u001b[49m\u001b[43m \u001b[49m\u001b[43mstrict\u001b[49m\u001b[38;5;241;43m=\u001b[39;49m\u001b[38;5;28;43;01mTrue\u001b[39;49;00m\u001b[43m)\u001b[49m\n\u001b[1;32m    232\u001b[0m     \u001b[38;5;28;01mexcept\u001b[39;00m SympifyError:\n\u001b[1;32m    233\u001b[0m         \u001b[38;5;28;01mreturn\u001b[39;00m retval\n",
      "File \u001b[0;32m~/Software/miniconda3/lib/python3.12/site-packages/sympy/core/sympify.py:449\u001b[0m, in \u001b[0;36msympify\u001b[0;34m(a, locals, convert_xor, strict, rational, evaluate)\u001b[0m\n\u001b[1;32m    445\u001b[0m                 \u001b[38;5;28;01mpass\u001b[39;00m\n\u001b[1;32m    446\u001b[0m \u001b[38;5;28;01melif\u001b[39;00m \u001b[38;5;28mhasattr\u001b[39m(a, \u001b[38;5;124m'\u001b[39m\u001b[38;5;124m__float__\u001b[39m\u001b[38;5;124m'\u001b[39m):\n\u001b[1;32m    447\u001b[0m     \u001b[38;5;66;03m# float and int can coerce size-one numpy arrays to their lone\u001b[39;00m\n\u001b[1;32m    448\u001b[0m     \u001b[38;5;66;03m# element.  See issue https://github.com/numpy/numpy/issues/10404.\u001b[39;00m\n\u001b[0;32m--> 449\u001b[0m     \u001b[38;5;28;01mreturn\u001b[39;00m sympify(\u001b[38;5;28;43mfloat\u001b[39;49m\u001b[43m(\u001b[49m\u001b[43ma\u001b[49m\u001b[43m)\u001b[49m)\n\u001b[1;32m    450\u001b[0m \u001b[38;5;28;01melif\u001b[39;00m \u001b[38;5;28mhasattr\u001b[39m(a, \u001b[38;5;124m'\u001b[39m\u001b[38;5;124m__int__\u001b[39m\u001b[38;5;124m'\u001b[39m):\n\u001b[1;32m    451\u001b[0m     \u001b[38;5;28;01mreturn\u001b[39;00m sympify(\u001b[38;5;28mint\u001b[39m(a))\n",
      "File \u001b[0;32m~/Software/miniconda3/lib/python3.12/site-packages/uncertainties/core.py:2611\u001b[0m, in \u001b[0;36madd_operators_to_AffineScalarFunc.<locals>.raise_error\u001b[0;34m(self)\u001b[0m\n\u001b[1;32m   2610\u001b[0m \u001b[38;5;28;01mdef\u001b[39;00m \u001b[38;5;21mraise_error\u001b[39m(\u001b[38;5;28mself\u001b[39m):\n\u001b[0;32m-> 2611\u001b[0m     \u001b[38;5;28;01mraise\u001b[39;00m \u001b[38;5;167;01mTypeError\u001b[39;00m(\u001b[38;5;124m\"\u001b[39m\u001b[38;5;124mcan\u001b[39m\u001b[38;5;124m'\u001b[39m\u001b[38;5;124mt convert an affine function (\u001b[39m\u001b[38;5;132;01m%s\u001b[39;00m\u001b[38;5;124m)\u001b[39m\u001b[38;5;124m\"\u001b[39m\n\u001b[1;32m   2612\u001b[0m                     \u001b[38;5;124m'\u001b[39m\u001b[38;5;124m to \u001b[39m\u001b[38;5;132;01m%s\u001b[39;00m\u001b[38;5;124m; use x.nominal_value\u001b[39m\u001b[38;5;124m'\u001b[39m\n\u001b[1;32m   2613\u001b[0m                     \u001b[38;5;66;03m# In case AffineScalarFunc is sub-classed:\u001b[39;00m\n\u001b[1;32m   2614\u001b[0m                     \u001b[38;5;241m%\u001b[39m (\u001b[38;5;28mself\u001b[39m\u001b[38;5;241m.\u001b[39m\u001b[38;5;18m__class__\u001b[39m, coercion_type))\n",
      "\u001b[0;31mTypeError\u001b[0m: can't convert an affine function (<class 'uncertainties.core.Variable'>) to float; use x.nominal_value"
     ]
    }
   ],
   "source": [
    "x, x1, x3 = symbols('x x1 x3')\n",
    "L=Symbol(\"L\")\n",
    "# eqn=(x*(L**2))+(x1*(L*1))+(x3*(L**0))\n",
    "# s = solve(eqn,L)\n",
    "display(eqn)\n",
    "lambdify([x, x1, x3], eqn)(ufloat(10,0.2), ufloat(8,0.01), ufloat(25,2))"
   ]
  },
  {
   "cell_type": "code",
   "execution_count": null,
   "metadata": {},
   "outputs": [],
   "source": []
  },
  {
   "cell_type": "code",
   "execution_count": null,
   "metadata": {},
   "outputs": [
    {
     "ename": "TypeError",
     "evalue": "_lambdifygenerated() missing 1 required positional argument: 'f'",
     "output_type": "error",
     "traceback": [
      "\u001b[0;31m---------------------------------------------------------------------------\u001b[0m",
      "\u001b[0;31mTypeError\u001b[0m                                 Traceback (most recent call last)",
      "Cell \u001b[0;32mIn[69], line 5\u001b[0m\n\u001b[1;32m      2\u001b[0m nlaw2 \u001b[38;5;241m=\u001b[39m lambdify([f, m, a], Eq(f, m\u001b[38;5;241m*\u001b[39ma))\n\u001b[1;32m      3\u001b[0m \u001b[38;5;66;03m# nlaw2(4, 2, 2)\u001b[39;00m\n\u001b[1;32m      4\u001b[0m \u001b[38;5;66;03m# nlaw2(m=2*kilograms, a=2*meters/second**2, f=4*newtons)\u001b[39;00m\n\u001b[0;32m----> 5\u001b[0m \u001b[43mnlaw2\u001b[49m\u001b[43m(\u001b[49m\u001b[43mm\u001b[49m\u001b[38;5;241;43m=\u001b[39;49m\u001b[38;5;241;43m2\u001b[39;49m\u001b[43m,\u001b[49m\u001b[43m \u001b[49m\u001b[43ma\u001b[49m\u001b[38;5;241;43m=\u001b[39;49m\u001b[38;5;241;43m2\u001b[39;49m\u001b[43m)\u001b[49m\n",
      "\u001b[0;31mTypeError\u001b[0m: _lambdifygenerated() missing 1 required positional argument: 'f'"
     ]
    }
   ],
   "source": [
    "f, m, a = symbols('f, m, a')\n",
    "nlaw2 = lambdify([f, m, a], Eq(f, m*a))\n",
    "# nlaw2(4, 2, 2)\n",
    "# nlaw2(m=2*kilograms, a=2*meters/second**2, f=4*newtons)\n",
    "nlaw2(m=2, a=2, f=4)"
   ]
  },
  {
   "cell_type": "code",
   "execution_count": null,
   "metadata": {},
   "outputs": [
    {
     "data": {
      "text/plain": [
       "4.0+/-2.23606797749979"
      ]
     },
     "execution_count": 77,
     "metadata": {},
     "output_type": "execute_result"
    }
   ],
   "source": [
    "f, m, a = symbols('f, m, a')\n",
    "\n",
    "nlaw2 = lambdify([m, a], m*a)\n",
    "# nlaw2(4, 2, 2)\n",
    "# nlaw2(m=2*kilograms, a=2*meters/second**2, f=4*newtons)\n",
    "# convert_to(nlaw2(m=2*kilograms, a=2*meters/second**2), newtons)\n",
    "nlaw2(m=uf(2, 1), a=uf(2, .5))"
   ]
  },
  {
   "cell_type": "code",
   "execution_count": null,
   "metadata": {},
   "outputs": [
    {
     "data": {
      "text/plain": [
       "4.0+/-2.0"
      ]
     },
     "execution_count": 80,
     "metadata": {},
     "output_type": "execute_result"
    }
   ],
   "source": [
    "from sympy.abc import x\n",
    "from sympy.utilities.lambdify import implemented_function\n",
    "from sympy import lambdify\n",
    "f = implemented_function('f', lambda x: x+1)\n",
    "lam_f = lambdify(x, f(x))\n",
    "lam_f(uf(3, 2))"
   ]
  },
  {
   "cell_type": "code",
   "execution_count": null,
   "metadata": {},
   "outputs": [
    {
     "ename": "TypeError",
     "evalue": "can't convert an affine function (<class 'uncertainties.core.Variable'>) to float; use x.nominal_value",
     "output_type": "error",
     "traceback": [
      "\u001b[0;31m---------------------------------------------------------------------------\u001b[0m",
      "\u001b[0;31mTypeError\u001b[0m                                 Traceback (most recent call last)",
      "Cell \u001b[0;32mIn[83], line 1\u001b[0m\n\u001b[0;32m----> 1\u001b[0m \u001b[43mf\u001b[49m\u001b[43m(\u001b[49m\u001b[43muf\u001b[49m\u001b[43m(\u001b[49m\u001b[38;5;241;43m3\u001b[39;49m\u001b[43m,\u001b[49m\u001b[43m \u001b[49m\u001b[38;5;241;43m1\u001b[39;49m\u001b[43m)\u001b[49m\u001b[43m)\u001b[49m\n",
      "File \u001b[0;32m~/Software/miniconda3/lib/python3.12/site-packages/sympy/core/function.py:827\u001b[0m, in \u001b[0;36mAppliedUndef.__new__\u001b[0;34m(cls, *args, **options)\u001b[0m\n\u001b[1;32m    826\u001b[0m \u001b[38;5;28;01mdef\u001b[39;00m \u001b[38;5;21m__new__\u001b[39m(\u001b[38;5;28mcls\u001b[39m, \u001b[38;5;241m*\u001b[39margs, \u001b[38;5;241m*\u001b[39m\u001b[38;5;241m*\u001b[39moptions):\n\u001b[0;32m--> 827\u001b[0m     args \u001b[38;5;241m=\u001b[39m \u001b[38;5;28;43mlist\u001b[39;49m\u001b[43m(\u001b[49m\u001b[38;5;28;43mmap\u001b[39;49m\u001b[43m(\u001b[49m\u001b[43msympify\u001b[49m\u001b[43m,\u001b[49m\u001b[43m \u001b[49m\u001b[43margs\u001b[49m\u001b[43m)\u001b[49m\u001b[43m)\u001b[49m\n\u001b[1;32m    828\u001b[0m     u \u001b[38;5;241m=\u001b[39m [a\u001b[38;5;241m.\u001b[39mname \u001b[38;5;28;01mfor\u001b[39;00m a \u001b[38;5;129;01min\u001b[39;00m args \u001b[38;5;28;01mif\u001b[39;00m \u001b[38;5;28misinstance\u001b[39m(a, UndefinedFunction)]\n\u001b[1;32m    829\u001b[0m     \u001b[38;5;28;01mif\u001b[39;00m u:\n",
      "File \u001b[0;32m~/Software/miniconda3/lib/python3.12/site-packages/sympy/core/sympify.py:449\u001b[0m, in \u001b[0;36msympify\u001b[0;34m(a, locals, convert_xor, strict, rational, evaluate)\u001b[0m\n\u001b[1;32m    445\u001b[0m                 \u001b[38;5;28;01mpass\u001b[39;00m\n\u001b[1;32m    446\u001b[0m \u001b[38;5;28;01melif\u001b[39;00m \u001b[38;5;28mhasattr\u001b[39m(a, \u001b[38;5;124m'\u001b[39m\u001b[38;5;124m__float__\u001b[39m\u001b[38;5;124m'\u001b[39m):\n\u001b[1;32m    447\u001b[0m     \u001b[38;5;66;03m# float and int can coerce size-one numpy arrays to their lone\u001b[39;00m\n\u001b[1;32m    448\u001b[0m     \u001b[38;5;66;03m# element.  See issue https://github.com/numpy/numpy/issues/10404.\u001b[39;00m\n\u001b[0;32m--> 449\u001b[0m     \u001b[38;5;28;01mreturn\u001b[39;00m sympify(\u001b[38;5;28;43mfloat\u001b[39;49m\u001b[43m(\u001b[49m\u001b[43ma\u001b[49m\u001b[43m)\u001b[49m)\n\u001b[1;32m    450\u001b[0m \u001b[38;5;28;01melif\u001b[39;00m \u001b[38;5;28mhasattr\u001b[39m(a, \u001b[38;5;124m'\u001b[39m\u001b[38;5;124m__int__\u001b[39m\u001b[38;5;124m'\u001b[39m):\n\u001b[1;32m    451\u001b[0m     \u001b[38;5;28;01mreturn\u001b[39;00m sympify(\u001b[38;5;28mint\u001b[39m(a))\n",
      "File \u001b[0;32m~/Software/miniconda3/lib/python3.12/site-packages/uncertainties/core.py:2611\u001b[0m, in \u001b[0;36madd_operators_to_AffineScalarFunc.<locals>.raise_error\u001b[0;34m(self)\u001b[0m\n\u001b[1;32m   2610\u001b[0m \u001b[38;5;28;01mdef\u001b[39;00m \u001b[38;5;21mraise_error\u001b[39m(\u001b[38;5;28mself\u001b[39m):\n\u001b[0;32m-> 2611\u001b[0m     \u001b[38;5;28;01mraise\u001b[39;00m \u001b[38;5;167;01mTypeError\u001b[39;00m(\u001b[38;5;124m\"\u001b[39m\u001b[38;5;124mcan\u001b[39m\u001b[38;5;124m'\u001b[39m\u001b[38;5;124mt convert an affine function (\u001b[39m\u001b[38;5;132;01m%s\u001b[39;00m\u001b[38;5;124m)\u001b[39m\u001b[38;5;124m\"\u001b[39m\n\u001b[1;32m   2612\u001b[0m                     \u001b[38;5;124m'\u001b[39m\u001b[38;5;124m to \u001b[39m\u001b[38;5;132;01m%s\u001b[39;00m\u001b[38;5;124m; use x.nominal_value\u001b[39m\u001b[38;5;124m'\u001b[39m\n\u001b[1;32m   2613\u001b[0m                     \u001b[38;5;66;03m# In case AffineScalarFunc is sub-classed:\u001b[39;00m\n\u001b[1;32m   2614\u001b[0m                     \u001b[38;5;241m%\u001b[39m (\u001b[38;5;28mself\u001b[39m\u001b[38;5;241m.\u001b[39m\u001b[38;5;18m__class__\u001b[39m, coercion_type))\n",
      "\u001b[0;31mTypeError\u001b[0m: can't convert an affine function (<class 'uncertainties.core.Variable'>) to float; use x.nominal_value"
     ]
    }
   ],
   "source": [
    "f(uf(3, 1))"
   ]
  },
  {
   "cell_type": "code",
   "execution_count": null,
   "metadata": {},
   "outputs": [],
   "source": [
    "uf(2, 1)"
   ]
  },
  {
   "cell_type": "code",
   "execution_count": null,
   "metadata": {},
   "outputs": [
    {
     "ename": "TypeError",
     "evalue": "_lambdifygenerated() missing 1 required positional argument: 'a'",
     "output_type": "error",
     "traceback": [
      "\u001b[0;31m---------------------------------------------------------------------------\u001b[0m",
      "\u001b[0;31mTypeError\u001b[0m                                 Traceback (most recent call last)",
      "Cell \u001b[0;32mIn[52], line 1\u001b[0m\n\u001b[0;32m----> 1\u001b[0m \u001b[43mnlaw2\u001b[49m\u001b[43m(\u001b[49m\u001b[38;5;241;43m4\u001b[39;49m\u001b[38;5;241;43m*\u001b[39;49m\u001b[43mnewtons\u001b[49m\u001b[43m,\u001b[49m\u001b[43m \u001b[49m\u001b[38;5;241;43m2\u001b[39;49m\u001b[38;5;241;43m*\u001b[39;49m\u001b[43mkilograms\u001b[49m\u001b[43m)\u001b[49m\n",
      "\u001b[0;31mTypeError\u001b[0m: _lambdifygenerated() missing 1 required positional argument: 'a'"
     ]
    }
   ],
   "source": [
    "nlaw2(4*newtons, 2*kilograms, )"
   ]
  },
  {
   "cell_type": "code",
   "execution_count": null,
   "metadata": {},
   "outputs": [
    {
     "ename": "TypeError",
     "evalue": "type 'Union' is not subscriptable",
     "output_type": "error",
     "traceback": [
      "\u001b[0;31m---------------------------------------------------------------------------\u001b[0m",
      "\u001b[0;31mTypeError\u001b[0m                                 Traceback (most recent call last)",
      "Cell \u001b[0;32mIn[102], line 4\u001b[0m\n\u001b[1;32m      2\u001b[0m \u001b[38;5;66;03m# calculate(m*a, m=Val(3, 1), a=Val(4, 2))\u001b[39;00m\n\u001b[1;32m      3\u001b[0m uncertainty(m\u001b[38;5;241m*\u001b[39ma, \u001b[38;5;124m'\u001b[39m\u001b[38;5;124mm\u001b[39m\u001b[38;5;124m'\u001b[39m, \u001b[38;5;124m'\u001b[39m\u001b[38;5;124ma\u001b[39m\u001b[38;5;124m'\u001b[39m)\u001b[38;5;241m.\u001b[39msubs(\u001b[38;5;28mdict\u001b[39m(m\u001b[38;5;241m=\u001b[39m\u001b[38;5;241m2\u001b[39m, a\u001b[38;5;241m=\u001b[39m\u001b[38;5;241m2\u001b[39m, δm\u001b[38;5;241m=\u001b[39m\u001b[38;5;241m1\u001b[39m, δa\u001b[38;5;241m=\u001b[39mS(\u001b[38;5;241m1\u001b[39m)\u001b[38;5;241m/\u001b[39m\u001b[38;5;241m2\u001b[39m))\n\u001b[0;32m----> 4\u001b[0m \u001b[38;5;28;01mdef\u001b[39;00m \u001b[38;5;21muncertainty\u001b[39m(expr: \u001b[43mUnion\u001b[49m\u001b[43m[\u001b[49m\u001b[38;5;28;43mstr\u001b[39;49m\u001b[43m,\u001b[49m\u001b[43m \u001b[49m\u001b[43mExpr\u001b[49m\u001b[43m]\u001b[49m):\n\u001b[1;32m      5\u001b[0m     \u001b[38;5;28;01mreturn\u001b[39;00m sp\u001b[38;5;241m.\u001b[39msqrt(\n\u001b[1;32m      6\u001b[0m             \u001b[38;5;28msum\u001b[39m(\n\u001b[1;32m      7\u001b[0m                 sp\u001b[38;5;241m.\u001b[39mdiff(expr, sym) \u001b[38;5;241m*\u001b[39m\u001b[38;5;241m*\u001b[39m \u001b[38;5;241m2\u001b[39m \u001b[38;5;241m*\u001b[39m sp\u001b[38;5;241m.\u001b[39msymbols(\u001b[38;5;124m\"\u001b[39m\u001b[38;5;124mδ\u001b[39m\u001b[38;5;124m\"\u001b[39m \u001b[38;5;241m+\u001b[39m sym\u001b[38;5;241m.\u001b[39mname) \u001b[38;5;241m*\u001b[39m\u001b[38;5;241m*\u001b[39m \u001b[38;5;241m2\u001b[39m\n\u001b[0;32m   (...)\u001b[0m\n\u001b[1;32m     10\u001b[0m             )\n\u001b[1;32m     11\u001b[0m         )\n",
      "\u001b[0;31mTypeError\u001b[0m: type 'Union' is not subscriptable"
     ]
    }
   ],
   "source": [
    "from pycertainties import calculate, Val, uncertainty\n",
    "# calculate(m*a, m=Val(3, 1), a=Val(4, 2))\n",
    "uncertainty(m*a, 'm', 'a').subs(dict(m=2, a=2, δm=1, δa=S(1)/2))\n"
   ]
  },
  {
   "cell_type": "code",
   "execution_count": null,
   "metadata": {},
   "outputs": [],
   "source": [
    "def uncertainty(expr: Expr):\n",
    "    return sqrt(sum(\n",
    "        diff(expr, sym) ** 2 * Symbol(\"δ\" + sym.name) ** 2\n",
    "        for sym in expr.atoms(Symbol)\n",
    "    ))"
   ]
  },
  {
   "cell_type": "code",
   "execution_count": null,
   "metadata": {},
   "outputs": [
    {
     "data": {
      "text/latex": [
       "$\\displaystyle \\sqrt{δa^{2} \\left(\\frac{\\partial}{\\partial a} f = a m\\right)^{2} + δf^{2} \\left(\\frac{\\partial}{\\partial f} f = a m\\right)^{2} + δm^{2} \\left(\\frac{\\partial}{\\partial m} f = a m\\right)^{2}}$"
      ],
      "text/plain": [
       "sqrt(δa**2*Derivative(Eq(f, a*m), a)**2 + δf**2*Derivative(Eq(f, a*m), f)**2 + δm**2*Derivative(Eq(f, a*m), m)**2)"
      ]
     },
     "execution_count": 116,
     "metadata": {},
     "output_type": "execute_result"
    }
   ],
   "source": [
    "uncertainty(Eq(Symbol('f'), m*a))"
   ]
  },
  {
   "cell_type": "code",
   "execution_count": null,
   "metadata": {},
   "outputs": [],
   "source": [
    "expr = solve(nlaw, F, list=True)[0]\n",
    "t = sqrt(sum(\n",
    "    diff(expr, sym)**2 * Symbol(\"δ\" + sym.name)**2\n",
    "    for sym in expr.atoms(Symbol)\n",
    ")).subs({M:2, A:2, 'δM': 1, 'δA':1})"
   ]
  },
  {
   "cell_type": "code",
   "execution_count": null,
   "metadata": {},
   "outputs": [
    {
     "data": {
      "text/plain": [
       "2.0+/-2.8284271247461903"
      ]
     },
     "execution_count": 130,
     "metadata": {},
     "output_type": "execute_result"
    }
   ],
   "source": [
    "uf(2, t)"
   ]
  },
  {
   "cell_type": "code",
   "execution_count": null,
   "metadata": {},
   "outputs": [
    {
     "data": {
      "text/latex": [
       "$\\displaystyle A M$"
      ],
      "text/plain": [
       "A*M"
      ]
     },
     "execution_count": 123,
     "metadata": {},
     "output_type": "execute_result"
    }
   ],
   "source": []
  },
  {
   "cell_type": "code",
   "execution_count": null,
   "metadata": {},
   "outputs": [
    {
     "data": {
      "text/latex": [
       "$\\displaystyle \\left[\\begin{matrix}1 & 1 & 1\\end{matrix}\\right]$"
      ],
      "text/plain": [
       "Matrix([[1, 1, 1]])"
      ]
     },
     "execution_count": 8,
     "metadata": {},
     "output_type": "execute_result"
    }
   ],
   "source": [
    "# Force, mass, acceleration, velocity, radius\n",
    "Matrix([[1, 1, 1, 0, 0], [0, 0, 1, ]])"
   ]
  }
 ],
 "metadata": {
  "kernelspec": {
   "display_name": "base",
   "language": "python",
   "name": "python3"
  },
  "language_info": {
   "codemirror_mode": {
    "name": "ipython",
    "version": 3
   },
   "file_extension": ".py",
   "mimetype": "text/x-python",
   "name": "python",
   "nbconvert_exporter": "python",
   "pygments_lexer": "ipython3",
   "version": "3.12.2"
  }
 },
 "nbformat": 4,
 "nbformat_minor": 2
}
