{
 "cells": [
  {
   "cell_type": "code",
   "execution_count": 1,
   "metadata": {},
   "outputs": [],
   "source": [
    "from sympy import *\n",
    "from sympy.physics.units.systems.si import SI\n",
    "from sympy.physics.units import Unit\n",
    "from sympy.physics.units import *\n",
    "from sympy import *\n",
    "from typing import Dict\n",
    "import re\n",
    "from sympy.physics.units.util import * \n",
    "from sympy.physics.units.systems.si import dimsys_SI\n",
    "from sympy.physics.units.systems.si import *\n",
    "import sympy as sp\n",
    "from copy import copy"
   ]
  },
  {
   "cell_type": "code",
   "execution_count": 41,
   "metadata": {},
   "outputs": [
    {
     "data": {
      "text/latex": [
       "$\\displaystyle 270.927777765432$"
      ],
      "text/plain": [
       "270.927777765432"
      ]
     },
     "execution_count": 41,
     "metadata": {},
     "output_type": "execute_result"
    }
   ],
   "source": [
    "class Dimension(Float):\n",
    "    def initial()\n",
    "    # None means unitless\n",
    "    # base_unit = None\n",
    "    # def __init__(self):\n",
    "    #     # The value passed when called\n",
    "    #     self._raw_amt = amt\n",
    "    #     # The value set when a unit is specified. This is in units of base_unit\n",
    "    #     self.amt = None\n",
    "    #     # super().__init__(amt)\n",
    "\n",
    "class Temperature(Float):\n",
    "    base_unit = 'Kelvin'\n",
    "    description = ''\n",
    "    abbrev = ('temp', 'T')\n",
    "    @staticmethod\n",
    "    def Kelvin(amt):\n",
    "        return Temperature(amt)\n",
    "    @staticmethod\n",
    "    def Celcius(amt):\n",
    "        return Temperature(amt + 274.15)\n",
    "    @staticmethod\n",
    "    def Fahrenheit(amt):\n",
    "        return Temperature(((amt - 32) / 1.79999999) + 273.15)\n",
    "        \n",
    "Temperature.Fahrenheit(28)\n"
   ]
  },
  {
   "cell_type": "code",
   "execution_count": 29,
   "metadata": {},
   "outputs": [
    {
     "data": {
      "text/latex": [
       "$\\displaystyle 28.0$"
      ],
      "text/plain": [
       "28.0000000000000"
      ]
     },
     "execution_count": 29,
     "metadata": {},
     "output_type": "execute_result"
    }
   ],
   "source": [
    "# Float.__call__(28)"
   ]
  },
  {
   "cell_type": "markdown",
   "metadata": {},
   "source": [
    "# Structure\n",
    "## Namespaces\n",
    "- Namespaces are sets of Dimensions and Equations\n",
    "## Equations\n",
    "- Equations have an expression, and variables (which are in the expression)\n",
    "## Units\n",
    "- Units are not a class, they are part of dimensions"
   ]
  }
 ],
 "metadata": {
  "kernelspec": {
   "display_name": "Python 3",
   "language": "python",
   "name": "python3"
  },
  "language_info": {
   "codemirror_mode": {
    "name": "ipython",
    "version": 3
   },
   "file_extension": ".py",
   "mimetype": "text/x-python",
   "name": "python",
   "nbconvert_exporter": "python",
   "pygments_lexer": "ipython3",
   "version": "3.11.6"
  },
  "orig_nbformat": 4
 },
 "nbformat": 4,
 "nbformat_minor": 2
}
